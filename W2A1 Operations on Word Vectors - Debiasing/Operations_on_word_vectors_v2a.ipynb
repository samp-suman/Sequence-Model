version https://git-lfs.github.com/spec/v1
oid sha256:1cdcfda8b37ef52ab1cba8ca5771d144fe6e5916b919f723a0d8a543c2497905
size 39501
